{
 "cells": [
  {
   "cell_type": "code",
   "execution_count": 1,
   "metadata": {},
   "outputs": [
    {
     "name": "stdout",
     "output_type": "stream",
     "text": [
      "(2*x + 3*y, 3*x + 2*y)\n"
     ]
    }
   ],
   "source": [
    "from sympy import diff, symbols\n",
    "\n",
    "x, y = symbols(\"x y\")\n",
    "f = x**2 + 3 * x * y + y**2\n",
    "grad_f = (diff(f, x), diff(f, y))\n",
    "print(grad_f)\n"
   ]
  },
  {
   "cell_type": "code",
   "execution_count": 2,
   "metadata": {},
   "outputs": [
    {
     "name": "stdout",
     "output_type": "stream",
     "text": [
      "(-400*x*(-x**2 + y) + 2*x - 2, -200*x**2 + 200*y)\n"
     ]
    }
   ],
   "source": [
    "x, y = symbols(\"x y\")\n",
    "f = 100 * (y - x**2) ** 2 + (1 - x) ** 2\n",
    "grad_f = (diff(f, x), diff(f, y))\n",
    "print(grad_f)"
   ]
  },
  {
   "cell_type": "code",
   "execution_count": null,
   "metadata": {},
   "outputs": [],
   "source": []
  }
 ],
 "metadata": {
  "kernelspec": {
   "display_name": ".venv",
   "language": "python",
   "name": "python3"
  },
  "language_info": {
   "codemirror_mode": {
    "name": "ipython",
    "version": 3
   },
   "file_extension": ".py",
   "mimetype": "text/x-python",
   "name": "python",
   "nbconvert_exporter": "python",
   "pygments_lexer": "ipython3",
   "version": "3.10.13"
  }
 },
 "nbformat": 4,
 "nbformat_minor": 2
}
