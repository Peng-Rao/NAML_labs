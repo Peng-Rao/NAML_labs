{
 "cells": [
  {
   "cell_type": "code",
   "execution_count": 1,
   "metadata": {},
   "outputs": [
    {
     "name": "stdout",
     "output_type": "stream",
     "text": [
      "Symbolic derivative: -(-(-sin(x) + cos(x))*sin(sin(x) + cos(x)) + (-sin(x) + cos(x))*cos(sin(x) + cos(x)))*sin(sin(sin(x) + cos(x)) + cos(sin(x) + cos(x)))**2 + (-(-sin(x) + cos(x))*sin(sin(x) + cos(x)) + (-sin(x) + cos(x))*cos(sin(x) + cos(x)))*cos(sin(sin(x) + cos(x)) + cos(sin(x) + cos(x)))**2\n",
      "Numeric value at x=1: -0.166419270546732\n"
     ]
    }
   ],
   "source": [
    "from sympy import cos, diff, sin, symbols\n",
    "\n",
    "# 1) Define the symbolic variable\n",
    "x = symbols(\"x\", real=True)\n",
    "\n",
    "# 2) First layer: sin(x) and cos(x)\n",
    "h1_top = sin(x)\n",
    "h1_bottom = cos(x)\n",
    "\n",
    "# 3) Second layer: sin( sin(x) + cos(x) ), cos( sin(x) + cos(x) )\n",
    "h2_top = sin(h1_top + h1_bottom)\n",
    "h2_bottom = cos(h1_top + h1_bottom)\n",
    "\n",
    "# 4) Third layer: sin(...) and cos(...) of the sum of second-layer outputs\n",
    "h3_top = sin(h2_top + h2_bottom)\n",
    "h3_bottom = cos(h2_top + h2_bottom)\n",
    "\n",
    "# 5) Final output = product of the top and bottom of the third layer\n",
    "output = h3_top * h3_bottom\n",
    "\n",
    "# 6) Symbolically differentiate w.r.t x\n",
    "doutput_dx = diff(output, x)\n",
    "\n",
    "# 7) Evaluate at x = 1\n",
    "numeric_value = doutput_dx.subs(x, 1)\n",
    "\n",
    "print(\"Symbolic derivative:\", doutput_dx)\n",
    "print(\"Numeric value at x=1:\", numeric_value.evalf())\n"
   ]
  },
  {
   "cell_type": "code",
   "execution_count": null,
   "metadata": {},
   "outputs": [],
   "source": []
  }
 ],
 "metadata": {
  "kernelspec": {
   "display_name": ".venv",
   "language": "python",
   "name": "python3"
  },
  "language_info": {
   "codemirror_mode": {
    "name": "ipython",
    "version": 3
   },
   "file_extension": ".py",
   "mimetype": "text/x-python",
   "name": "python",
   "nbconvert_exporter": "python",
   "pygments_lexer": "ipython3",
   "version": "3.10.13"
  }
 },
 "nbformat": 4,
 "nbformat_minor": 2
}
