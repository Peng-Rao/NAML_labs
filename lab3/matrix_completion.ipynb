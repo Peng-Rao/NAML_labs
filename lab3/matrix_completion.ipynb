{
 "cells": [
  {
   "cell_type": "markdown",
   "metadata": {
    "id": "38-hDL_qyNgD"
   },
   "source": [
    "# Matrix completion and recommender systems\n"
   ]
  },
  {
   "cell_type": "markdown",
   "metadata": {
    "id": "vAQg0dnYQv7w"
   },
   "source": [
    "[MovieLens](movielens.umn.edu) data sets were collected by the [GroupLens Research Project](http://www.grouplens.org/) at the University of Minnesota.\n",
    "\n",
    "This data set consists of:\n",
    "\n",
    "- 100000 ratings (1-5) from 943 users on 1682 movies.\n",
    "- Each user has rated at least 20 movies.\n",
    "\n",
    "The `movielens.csv` file contains the full dataset. Users and items are numbered consecutively from 1. The data is randomly ordered. This is a tab separated list of\n",
    "\n",
    "```\n",
    "user id | item id | rating | timestamp\n",
    "```\n"
   ]
  },
  {
   "cell_type": "code",
   "execution_count": 1,
   "metadata": {
    "id": "CErbjjHvR85c"
   },
   "outputs": [],
   "source": [
    "import pandas as pd\n",
    "import numpy as np\n",
    "import matplotlib.pyplot as plt\n",
    "from scipy.sparse import csr_matrix\n",
    "from scipy.stats import pearsonr"
   ]
  },
  {
   "cell_type": "markdown",
   "metadata": {
    "id": "9hSllBeQSGNd"
   },
   "source": [
    "Read the dataset from the `movielens.csv` file.\n"
   ]
  },
  {
   "cell_type": "code",
   "execution_count": 2,
   "metadata": {
    "id": "BGUGfjrcSNFE"
   },
   "outputs": [
    {
     "data": {
      "text/html": [
       "<div>\n",
       "<style scoped>\n",
       "    .dataframe tbody tr th:only-of-type {\n",
       "        vertical-align: middle;\n",
       "    }\n",
       "\n",
       "    .dataframe tbody tr th {\n",
       "        vertical-align: top;\n",
       "    }\n",
       "\n",
       "    .dataframe thead th {\n",
       "        text-align: right;\n",
       "    }\n",
       "</style>\n",
       "<table border=\"1\" class=\"dataframe\">\n",
       "  <thead>\n",
       "    <tr style=\"text-align: right;\">\n",
       "      <th></th>\n",
       "      <th>0</th>\n",
       "      <th>1</th>\n",
       "      <th>2</th>\n",
       "      <th>3</th>\n",
       "    </tr>\n",
       "  </thead>\n",
       "  <tbody>\n",
       "    <tr>\n",
       "      <th>count</th>\n",
       "      <td>100000.00000</td>\n",
       "      <td>100000.000000</td>\n",
       "      <td>100000.000000</td>\n",
       "      <td>1.000000e+05</td>\n",
       "    </tr>\n",
       "    <tr>\n",
       "      <th>mean</th>\n",
       "      <td>462.48475</td>\n",
       "      <td>425.530130</td>\n",
       "      <td>3.529860</td>\n",
       "      <td>8.835289e+08</td>\n",
       "    </tr>\n",
       "    <tr>\n",
       "      <th>std</th>\n",
       "      <td>266.61442</td>\n",
       "      <td>330.798356</td>\n",
       "      <td>1.125674</td>\n",
       "      <td>5.343856e+06</td>\n",
       "    </tr>\n",
       "    <tr>\n",
       "      <th>min</th>\n",
       "      <td>1.00000</td>\n",
       "      <td>1.000000</td>\n",
       "      <td>1.000000</td>\n",
       "      <td>8.747247e+08</td>\n",
       "    </tr>\n",
       "    <tr>\n",
       "      <th>25%</th>\n",
       "      <td>254.00000</td>\n",
       "      <td>175.000000</td>\n",
       "      <td>3.000000</td>\n",
       "      <td>8.794487e+08</td>\n",
       "    </tr>\n",
       "    <tr>\n",
       "      <th>50%</th>\n",
       "      <td>447.00000</td>\n",
       "      <td>322.000000</td>\n",
       "      <td>4.000000</td>\n",
       "      <td>8.828269e+08</td>\n",
       "    </tr>\n",
       "    <tr>\n",
       "      <th>75%</th>\n",
       "      <td>682.00000</td>\n",
       "      <td>631.000000</td>\n",
       "      <td>4.000000</td>\n",
       "      <td>8.882600e+08</td>\n",
       "    </tr>\n",
       "    <tr>\n",
       "      <th>max</th>\n",
       "      <td>943.00000</td>\n",
       "      <td>1682.000000</td>\n",
       "      <td>5.000000</td>\n",
       "      <td>8.932866e+08</td>\n",
       "    </tr>\n",
       "  </tbody>\n",
       "</table>\n",
       "</div>"
      ],
      "text/plain": [
       "                  0              1              2             3\n",
       "count  100000.00000  100000.000000  100000.000000  1.000000e+05\n",
       "mean      462.48475     425.530130       3.529860  8.835289e+08\n",
       "std       266.61442     330.798356       1.125674  5.343856e+06\n",
       "min         1.00000       1.000000       1.000000  8.747247e+08\n",
       "25%       254.00000     175.000000       3.000000  8.794487e+08\n",
       "50%       447.00000     322.000000       4.000000  8.828269e+08\n",
       "75%       682.00000     631.000000       4.000000  8.882600e+08\n",
       "max       943.00000    1682.000000       5.000000  8.932866e+08"
      ]
     },
     "execution_count": 2,
     "metadata": {},
     "output_type": "execute_result"
    }
   ],
   "source": [
    "dataset = pd.read_csv(\"movielens.csv\", sep=\"\\t\", header=None)\n",
    "dataset.describe()"
   ]
  },
  {
   "cell_type": "markdown",
   "metadata": {
    "id": "KL3LYjZjSUkE"
   },
   "source": [
    "How many movies? How many people? How many ratings?\n"
   ]
  },
  {
   "cell_type": "code",
   "execution_count": 3,
   "metadata": {},
   "outputs": [
    {
     "data": {
      "text/plain": [
       "'Number of movies: 1682, number of people: 943, number of ratings: 100000'"
      ]
     },
     "execution_count": 3,
     "metadata": {},
     "output_type": "execute_result"
    }
   ],
   "source": [
    "n_movies = dataset[1].unique().shape[0]\n",
    "n_people = dataset[0].unique().shape[0]\n",
    "n_ratings = len(dataset)\n",
    "\n",
    "f\"Number of movies: {n_movies}, number of people: {n_people}, number of ratings: {n_ratings}\""
   ]
  },
  {
   "cell_type": "markdown",
   "metadata": {
    "id": "w4BfJL9wScZU"
   },
   "source": [
    "Shuffle the data (see the function [`np.random.shuffle`](https://numpy.org/doc/stable/reference/random/generated/numpy.random.shuffle.html)).\n"
   ]
  },
  {
   "cell_type": "code",
   "execution_count": 4,
   "metadata": {},
   "outputs": [
    {
     "data": {
      "text/plain": [
       "array([[      196,       242,         3, 881250949],\n",
       "       [      186,       302,         3, 891717742],\n",
       "       [       22,       377,         1, 878887116],\n",
       "       ...,\n",
       "       [      276,      1090,         1, 874795795],\n",
       "       [       13,       225,         2, 882399156],\n",
       "       [       12,       203,         3, 879959583]])"
      ]
     },
     "execution_count": 4,
     "metadata": {},
     "output_type": "execute_result"
    }
   ],
   "source": [
    "rating_values_arr = dataset.values\n",
    "rating_values_arr"
   ]
  },
  {
   "cell_type": "code",
   "execution_count": 5,
   "metadata": {},
   "outputs": [
    {
     "data": {
      "text/plain": [
       "array([[      639,       135,         4, 891239239],\n",
       "       [      183,        88,         3, 891466760],\n",
       "       [      387,       559,         3, 886481737],\n",
       "       ...,\n",
       "       [      342,       208,         4, 874984430],\n",
       "       [      125,        28,         4, 879454385],\n",
       "       [      305,       686,         3, 886324330]])"
      ]
     },
     "execution_count": 5,
     "metadata": {},
     "output_type": "execute_result"
    }
   ],
   "source": [
    "np.random.shuffle(rating_values_arr)\n",
    "rating_values_arr"
   ]
  },
  {
   "cell_type": "markdown",
   "metadata": {
    "id": "Orx1_BciSkTl"
   },
   "source": [
    "Split the dataset into a subset of 80000 training ratings and 20000 testing ratings.\n"
   ]
  },
  {
   "cell_type": "code",
   "execution_count": 6,
   "metadata": {},
   "outputs": [
    {
     "data": {
      "text/plain": [
       "((80000, 4), (20000, 4))"
      ]
     },
     "execution_count": 6,
     "metadata": {},
     "output_type": "execute_result"
    }
   ],
   "source": [
    "train_arr = rating_values_arr[:80000]\n",
    "test_arr = rating_values_arr[80000:]\n",
    "train_arr.shape, test_arr.shape"
   ]
  },
  {
   "cell_type": "markdown",
   "metadata": {
    "id": "fu5h_yrnSwAZ"
   },
   "source": [
    "Let us denote by $\\Omega$ the set of pairs $(i,j)$ such that rating of the $i$-th user on the $j$-th movie is available in the training set (similarly, $\\Omega_{\\text{test}}$ is the set of testing pairs).\n",
    "Let us denote by $r_{ij}$ the corresponding rating.\n",
    "\n",
    "Create a full matrix $X \\in \\mathbb{R}^{n \\times p}$, such that:\n",
    "\n",
    "$$\n",
    "X_{i,j} =\n",
    "\\begin{cases}\n",
    "r_{ij} & \\text{if } (i,j) \\in \\Omega\\\\\n",
    "0& \\text{otherwise}\n",
    "\\end{cases}\n",
    "$$\n"
   ]
  },
  {
   "cell_type": "code",
   "execution_count": 7,
   "metadata": {},
   "outputs": [
    {
     "data": {
      "text/plain": [
       "(943, 1682)"
      ]
     },
     "execution_count": 7,
     "metadata": {},
     "output_type": "execute_result"
    }
   ],
   "source": [
    "matrix = np.zeros((n_people, n_movies))\n",
    "matrix[:] = np.nan\n",
    "for person_id, movie_id, rating, _ in train_arr:\n",
    "    matrix[person_id - 1, movie_id - 1] = rating\n",
    "\n",
    "matrix.shape"
   ]
  },
  {
   "cell_type": "markdown",
   "metadata": {
    "id": "sGg4nEkKTSWK"
   },
   "source": [
    "## Trivial recommender system\n",
    "\n",
    "Create a trivial recommender system, based on the average rating of each user:\n",
    "\n",
    "$$\n",
    "r^{\\text{pred}}_{ij} = \\frac{1}{N_i} \\sum_{j : (i,j) \\in \\Omega} r_{ij}\n",
    "$$\n",
    "\n",
    "where $N_i = card(j : (i,j) \\in \\Omega)$.\n",
    "\n",
    "Then compute the RMSE (root mean square error):\n",
    "\n",
    "$$\n",
    "\\text{RMSE} = \\sqrt{\\frac{1}{card(\\Omega_{\\text{test}})} \\sum_{(i,j) \\in \\Omega_{\\text{test}}} (r_{ij} - r^{\\text{pred}}_{ij})^2}\n",
    "$$\n",
    "\n",
    "and the Pearson correlation coefficient $\\rho$ (use the function [scipy.stats.pearsonr](https://docs.scipy.org/doc/scipy/reference/generated/scipy.stats.pearsonr.html)):\n",
    "\n",
    "$$\n",
    "\\rho =\n",
    "\\frac\n",
    "{\n",
    "    \\displaystyle\\sum_{(i,j) \\in \\Omega_{\\text{test}}}\n",
    "       (r_{ij} - \\overline{r})\n",
    "       (r^{\\text{pred}}_{ij} - \\overline{r}^{\\text{pred}})\n",
    "}\n",
    "{\\sqrt{\n",
    "    \\displaystyle\\sum_{(i,j) \\in \\Omega_{\\text{test}}}\n",
    "       (r_{ij} - \\overline{r})^2\n",
    "       }\n",
    "\\sqrt{\n",
    "    \\displaystyle\\sum_{(i,j) \\in \\Omega_{\\text{test}}}\n",
    "       (r^{\\text{pred}}_{ij} - \\overline{r}^{\\text{pred}})^2\n",
    "       }}\n",
    "$$\n",
    "\n",
    "where\n",
    "\n",
    "$$\n",
    "\\begin{split}\n",
    "\\overline{r} &= \\frac{1}{card(\\Omega_{\\text{test}})} \\sum_{(i,j) \\in \\Omega_{\\text{test}}}\n",
    "       r_{ij}\n",
    "\\\\\n",
    "\\overline{r}^{\\text{pred}} &= \\frac{1}{card(\\Omega_{\\text{test}})} \\sum_{(i,j) \\in \\Omega_{\\text{test}}}\n",
    "       r^{\\text{pred}}_{ij}\n",
    "\\end{split}\n",
    "$$\n"
   ]
  },
  {
   "cell_type": "code",
   "execution_count": 10,
   "metadata": {},
   "outputs": [
    {
     "data": {
      "text/plain": [
       "(943, 1682)"
      ]
     },
     "execution_count": 10,
     "metadata": {},
     "output_type": "execute_result"
    }
   ],
   "source": [
    "r_pred = np.zeros((n_people, n_movies))\n",
    "\n",
    "for i in range(n_people):\n",
    "    avg_rating_user = np.nanmean(matrix[i, :])\n",
    "    for j in range(n_movies):\n",
    "        r_pred[i, j] = avg_rating_user if np.isnan(matrix[i, j]) else matrix[i, j]\n",
    "\n",
    "r_pred.shape"
   ]
  },
  {
   "cell_type": "code",
   "execution_count": 11,
   "metadata": {},
   "outputs": [],
   "source": [
    "test_values = test_arr[:, 2]\n",
    "r_pred_values = np.array(\n",
    "    [r_pred[test_arr[i][0] - 1][test_arr[i][1] - 1] for i in range(len(test_arr))]\n",
    ")"
   ]
  },
  {
   "cell_type": "code",
   "execution_count": 12,
   "metadata": {},
   "outputs": [
    {
     "data": {
      "text/plain": [
       "np.float64(1.041257362136144)"
      ]
     },
     "execution_count": 12,
     "metadata": {},
     "output_type": "execute_result"
    }
   ],
   "source": [
    "rmse = np.sqrt(1 / len(test_arr) * sum((test_values - r_pred_values) ** 2))\n",
    "\n",
    "rmse"
   ]
  },
  {
   "cell_type": "code",
   "execution_count": 13,
   "metadata": {},
   "outputs": [
    {
     "data": {
      "text/plain": [
       "PearsonRResult(statistic=np.float64(0.37519165386827047), pvalue=np.float64(0.0))"
      ]
     },
     "execution_count": 13,
     "metadata": {},
     "output_type": "execute_result"
    }
   ],
   "source": [
    "pearsonr(test_values, r_pred_values)"
   ]
  },
  {
   "cell_type": "markdown",
   "metadata": {
    "id": "aQxUcttequN3"
   },
   "source": [
    "# Singular value truncation (SVT) based recommender system\n"
   ]
  },
  {
   "cell_type": "markdown",
   "metadata": {
    "id": "cLtvKy_kqz2D"
   },
   "source": [
    "Implement the SVT algorithm to predict the ratings of the testing set. Set a maximum number of iterations equal to 100. Print the RMSE and $\\rho$ at each iteration. Finally, plot the trend of both metrics.\n",
    "\n",
    "Try to calibrate the threshold to get better results.\n"
   ]
  },
  {
   "cell_type": "code",
   "execution_count": 14,
   "metadata": {},
   "outputs": [
    {
     "name": "stdout",
     "output_type": "stream",
     "text": [
      "Iteration 1, with error=4.141545e+02, rmse=2.765605e+00, pearson=2.795211e-01\n",
      "Iteration 2, with error=2.640844e+02, rmse=2.337283e+00, pearson=3.042059e-01\n",
      "Iteration 3, with error=1.955328e+02, rmse=2.084401e+00, pearson=3.238772e-01\n",
      "Iteration 4, with error=1.559171e+02, rmse=1.912865e+00, pearson=3.399404e-01\n",
      "Iteration 5, with error=1.297783e+02, rmse=1.787211e+00, pearson=3.533781e-01\n",
      "Iteration 6, with error=1.111150e+02, rmse=1.690570e+00, pearson=3.648609e-01\n",
      "Iteration 7, with error=9.708318e+01, rmse=1.613661e+00, pearson=3.748497e-01\n",
      "Iteration 8, with error=8.614093e+01, rmse=1.550867e+00, pearson=3.836670e-01\n",
      "Iteration 9, with error=7.737023e+01, rmse=1.498559e+00, pearson=3.915439e-01\n",
      "Iteration 10, with error=7.018652e+01, rmse=1.454270e+00, pearson=3.986499e-01\n",
      "Iteration 11, with error=6.419831e+01, rmse=1.416266e+00, pearson=4.051129e-01\n",
      "Iteration 12, with error=5.913289e+01, rmse=1.383281e+00, pearson=4.110308e-01\n",
      "Iteration 13, with error=5.479425e+01, rmse=1.354376e+00, pearson=4.164807e-01\n",
      "Iteration 14, with error=5.103785e+01, rmse=1.328832e+00, pearson=4.215239e-01\n",
      "Iteration 15, with error=4.775480e+01, rmse=1.306094e+00, pearson=4.262103e-01\n",
      "Iteration 16, with error=4.486153e+01, rmse=1.285723e+00, pearson=4.305810e-01\n",
      "Iteration 17, with error=4.229289e+01, rmse=1.267368e+00, pearson=4.346702e-01\n",
      "Iteration 18, with error=3.999738e+01, rmse=1.250746e+00, pearson=4.385069e-01\n",
      "Iteration 19, with error=3.793379e+01, rmse=1.235624e+00, pearson=4.421157e-01\n",
      "Iteration 20, with error=3.606873e+01, rmse=1.221810e+00, pearson=4.455178e-01\n",
      "Iteration 21, with error=3.437492e+01, rmse=1.209143e+00, pearson=4.487316e-01\n",
      "Iteration 22, with error=3.282985e+01, rmse=1.197488e+00, pearson=4.517733e-01\n",
      "Iteration 23, with error=3.141476e+01, rmse=1.186730e+00, pearson=4.546569e-01\n",
      "Iteration 24, with error=3.011394e+01, rmse=1.176772e+00, pearson=4.573950e-01\n",
      "Iteration 25, with error=2.891408e+01, rmse=1.167529e+00, pearson=4.599988e-01\n",
      "Iteration 26, with error=2.780389e+01, rmse=1.158928e+00, pearson=4.624782e-01\n",
      "Iteration 27, with error=2.677368e+01, rmse=1.150907e+00, pearson=4.648421e-01\n",
      "Iteration 28, with error=2.581512e+01, rmse=1.143410e+00, pearson=4.670987e-01\n",
      "Iteration 29, with error=2.492099e+01, rmse=1.136389e+00, pearson=4.692552e-01\n",
      "Iteration 30, with error=2.408502e+01, rmse=1.129801e+00, pearson=4.713183e-01\n",
      "Iteration 31, with error=2.330171e+01, rmse=1.123608e+00, pearson=4.732941e-01\n",
      "Iteration 32, with error=2.256624e+01, rmse=1.117776e+00, pearson=4.751879e-01\n",
      "Iteration 33, with error=2.187438e+01, rmse=1.112277e+00, pearson=4.770048e-01\n",
      "Iteration 34, with error=2.122235e+01, rmse=1.107082e+00, pearson=4.787496e-01\n",
      "Iteration 35, with error=2.060682e+01, rmse=1.102168e+00, pearson=4.804263e-01\n",
      "Iteration 36, with error=2.002480e+01, rmse=1.097514e+00, pearson=4.820390e-01\n",
      "Iteration 37, with error=1.947365e+01, rmse=1.093100e+00, pearson=4.835912e-01\n",
      "Iteration 38, with error=1.895096e+01, rmse=1.088909e+00, pearson=4.850864e-01\n",
      "Iteration 39, with error=1.845459e+01, rmse=1.084924e+00, pearson=4.865275e-01\n",
      "Iteration 40, with error=1.798262e+01, rmse=1.081131e+00, pearson=4.879174e-01\n",
      "Iteration 41, with error=1.753327e+01, rmse=1.077518e+00, pearson=4.892589e-01\n",
      "Iteration 42, with error=1.710498e+01, rmse=1.074071e+00, pearson=4.905544e-01\n",
      "Iteration 43, with error=1.669629e+01, rmse=1.070781e+00, pearson=4.918061e-01\n",
      "Iteration 44, with error=1.630589e+01, rmse=1.067637e+00, pearson=4.930164e-01\n",
      "Iteration 45, with error=1.593260e+01, rmse=1.064629e+00, pearson=4.941872e-01\n",
      "Iteration 46, with error=1.557530e+01, rmse=1.061750e+00, pearson=4.953203e-01\n",
      "Iteration 47, with error=1.523300e+01, rmse=1.058992e+00, pearson=4.964176e-01\n",
      "Iteration 48, with error=1.490478e+01, rmse=1.056347e+00, pearson=4.974807e-01\n",
      "Iteration 49, with error=1.458979e+01, rmse=1.053808e+00, pearson=4.985111e-01\n",
      "Iteration 50, with error=1.428725e+01, rmse=1.051371e+00, pearson=4.995104e-01\n",
      "Iteration 51, with error=1.399644e+01, rmse=1.049028e+00, pearson=5.004798e-01\n",
      "Iteration 52, with error=1.371670e+01, rmse=1.046775e+00, pearson=5.014208e-01\n",
      "Iteration 53, with error=1.344742e+01, rmse=1.044607e+00, pearson=5.023345e-01\n",
      "Iteration 54, with error=1.318801e+01, rmse=1.042519e+00, pearson=5.032220e-01\n",
      "Iteration 55, with error=1.293796e+01, rmse=1.040508e+00, pearson=5.040845e-01\n",
      "Iteration 56, with error=1.269677e+01, rmse=1.038568e+00, pearson=5.049230e-01\n",
      "Iteration 57, with error=1.246399e+01, rmse=1.036697e+00, pearson=5.057385e-01\n",
      "Iteration 58, with error=1.223918e+01, rmse=1.034891e+00, pearson=5.065318e-01\n",
      "Iteration 59, with error=1.202195e+01, rmse=1.033146e+00, pearson=5.073039e-01\n",
      "Iteration 60, with error=1.181193e+01, rmse=1.031460e+00, pearson=5.080555e-01\n",
      "Iteration 61, with error=1.160877e+01, rmse=1.029830e+00, pearson=5.087875e-01\n",
      "Iteration 62, with error=1.141214e+01, rmse=1.028254e+00, pearson=5.095006e-01\n",
      "Iteration 63, with error=1.122174e+01, rmse=1.026728e+00, pearson=5.101956e-01\n",
      "Iteration 64, with error=1.103728e+01, rmse=1.025251e+00, pearson=5.108730e-01\n",
      "Iteration 65, with error=1.085850e+01, rmse=1.023820e+00, pearson=5.115335e-01\n",
      "Iteration 66, with error=1.068514e+01, rmse=1.022433e+00, pearson=5.121778e-01\n",
      "Iteration 67, with error=1.051696e+01, rmse=1.021089e+00, pearson=5.128064e-01\n",
      "Iteration 68, with error=1.035374e+01, rmse=1.019785e+00, pearson=5.134199e-01\n",
      "Iteration 69, with error=1.019526e+01, rmse=1.018519e+00, pearson=5.140188e-01\n",
      "Iteration 70, with error=1.004133e+01, rmse=1.017291e+00, pearson=5.146035e-01\n",
      "Iteration 71, with error=9.891764e+00, rmse=1.016098e+00, pearson=5.151747e-01\n",
      "Iteration 72, with error=9.746374e+00, rmse=1.014939e+00, pearson=5.157327e-01\n",
      "Iteration 73, with error=9.604995e+00, rmse=1.013813e+00, pearson=5.162780e-01\n",
      "Iteration 74, with error=9.467468e+00, rmse=1.012718e+00, pearson=5.168109e-01\n",
      "Iteration 75, with error=9.333642e+00, rmse=1.011654e+00, pearson=5.173320e-01\n",
      "Iteration 76, with error=9.203372e+00, rmse=1.010618e+00, pearson=5.178416e-01\n",
      "Iteration 77, with error=9.076524e+00, rmse=1.009610e+00, pearson=5.183400e-01\n",
      "Iteration 78, with error=8.952966e+00, rmse=1.008628e+00, pearson=5.188276e-01\n",
      "Iteration 79, with error=8.832577e+00, rmse=1.007673e+00, pearson=5.193048e-01\n",
      "Iteration 80, with error=8.715239e+00, rmse=1.006742e+00, pearson=5.197719e-01\n",
      "Iteration 81, with error=8.600841e+00, rmse=1.005835e+00, pearson=5.202291e-01\n",
      "Iteration 82, with error=8.489278e+00, rmse=1.004951e+00, pearson=5.206768e-01\n",
      "Iteration 83, with error=8.380448e+00, rmse=1.004089e+00, pearson=5.211153e-01\n",
      "Iteration 84, with error=8.274256e+00, rmse=1.003249e+00, pearson=5.215448e-01\n",
      "Iteration 85, with error=8.170609e+00, rmse=1.002429e+00, pearson=5.219656e-01\n",
      "Iteration 86, with error=8.069419e+00, rmse=1.001629e+00, pearson=5.223780e-01\n",
      "Iteration 87, with error=7.970604e+00, rmse=1.000848e+00, pearson=5.227821e-01\n",
      "Iteration 88, with error=7.874083e+00, rmse=1.000085e+00, pearson=5.231784e-01\n",
      "Iteration 89, with error=7.779780e+00, rmse=9.993408e-01, pearson=5.235669e-01\n",
      "Iteration 90, with error=7.687622e+00, rmse=9.986136e-01, pearson=5.239478e-01\n",
      "Iteration 91, with error=7.597539e+00, rmse=9.979032e-01, pearson=5.243215e-01\n",
      "Iteration 92, with error=7.509463e+00, rmse=9.972089e-01, pearson=5.246881e-01\n",
      "Iteration 93, with error=7.423331e+00, rmse=9.965303e-01, pearson=5.250477e-01\n",
      "Iteration 94, with error=7.339082e+00, rmse=9.958668e-01, pearson=5.254006e-01\n",
      "Iteration 95, with error=7.256656e+00, rmse=9.952180e-01, pearson=5.257470e-01\n",
      "Iteration 96, with error=7.175997e+00, rmse=9.945834e-01, pearson=5.260871e-01\n",
      "Iteration 97, with error=7.097050e+00, rmse=9.939625e-01, pearson=5.264209e-01\n",
      "Iteration 98, with error=7.019764e+00, rmse=9.933550e-01, pearson=5.267487e-01\n",
      "Iteration 99, with error=6.944088e+00, rmse=9.927604e-01, pearson=5.270706e-01\n",
      "Iteration 100, with error=6.869975e+00, rmse=9.921783e-01, pearson=5.273868e-01\n"
     ]
    }
   ],
   "source": [
    "max_it = 100\n",
    "rmses = []\n",
    "pearsons = []\n",
    "threshold = 150\n",
    "tolerance = 1e-6\n",
    "\n",
    "x_hat = np.zeros((n_people, n_movies))\n",
    "for person_id, movie_id, rating, _ in train_arr:\n",
    "    x_hat[person_id - 1, movie_id - 1] = rating\n",
    "\n",
    "for k in range(max_it):\n",
    "    x_old = x_hat.copy()\n",
    "    U, s, VT = np.linalg.svd(x_hat, full_matrices=False)\n",
    "    sigma_hat = np.array(\n",
    "        [s_val if s_val > threshold else 0 for s_val in s]\n",
    "    )  # truncation step\n",
    "    x_hat = U @ np.diag(sigma_hat) @ VT\n",
    "    for person_id, movie_id, rating, _ in train_arr:\n",
    "        x_hat[person_id - 1, movie_id - 1] = rating\n",
    "\n",
    "    x_pred_values = np.array(\n",
    "        [x_hat[test_arr[i][0] - 1][test_arr[i][1] - 1] for i in range(len(test_arr))]\n",
    "    )\n",
    "    rmse = np.sqrt(1 / len(test_arr) * sum((test_values - x_pred_values) ** 2))\n",
    "    rmses.append(rmse)\n",
    "    pearson = pearsonr(test_values, x_pred_values)\n",
    "    pearsons.append(pearson[0])\n",
    "\n",
    "    error = np.linalg.norm(x_hat - x_old)\n",
    "    print(\n",
    "        f\"Iteration {k + 1}, with error={error:2e}, rmse={rmse:2e}, pearson={pearson[0]:2e}\"\n",
    "    )\n",
    "    if error < tolerance:\n",
    "        break"
   ]
  },
  {
   "cell_type": "code",
   "execution_count": 15,
   "metadata": {},
   "outputs": [
    {
     "data": {
      "image/png": "[encoded data removed]",
      "text/plain": [
       "<Figure size 640x480 with 1 Axes>"
      ]
     },
     "metadata": {},
     "output_type": "display_data"
    },
    {
     "data": {
      "image/png": "[encoded data removed]",
      "text/plain": [
       "<Figure size 640x480 with 1 Axes>"
      ]
     },
     "metadata": {},
     "output_type": "display_data"
    }
   ],
   "source": [
    "plt.plot(rmses)\n",
    "plt.xlabel(\"Iteration\")\n",
    "plt.ylabel(\"RMSE\")\n",
    "plt.show()\n",
    "\n",
    "plt.plot(pearsons)\n",
    "plt.xlabel(\"Iteration\")\n",
    "plt.ylabel(\"Pearson\")\n",
    "plt.show()"
   ]
  },
  {
   "cell_type": "code",
   "execution_count": null,
   "metadata": {},
   "outputs": [],
   "source": []
  }
 ],
 "metadata": {
  "colab": {
   "authorship_tag": "ABX9TyNg1U9mvdvRUjvC8QsYx8V8",
   "collapsed_sections": [],
   "provenance": []
  },
  "kernelspec": {
   "display_name": ".venv",
   "language": "python",
   "name": "python3"
  },
  "language_info": {
   "codemirror_mode": {
    "name": "ipython",
    "version": 3
   },
   "file_extension": ".py",
   "mimetype": "text/x-python",
   "name": "python",
   "nbconvert_exporter": "python",
   "pygments_lexer": "ipython3",
   "version": "3.10.13"
  }
 },
 "nbformat": 4,
 "nbformat_minor": 0
}
