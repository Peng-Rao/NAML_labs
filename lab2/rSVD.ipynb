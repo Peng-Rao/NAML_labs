{
 "cells": [
  {
   "cell_type": "code",
   "execution_count": 1,
   "metadata": {},
   "outputs": [
    {
     "name": "stdout",
     "output_type": "stream",
     "text": [
      "Left singular vectors:\n",
      "(3, 3)\n",
      "\n",
      "Singular values:\n",
      "[9.34265841 3.24497827 1.08850813]\n",
      "\n",
      "Right singular vectors:\n",
      "(3, 3)\n"
     ]
    }
   ],
   "source": [
    "import numpy as np\n",
    "\n",
    "A = np.array([[1, 3, 2], [5, 3, 1], [3, 4, 5]])\n",
    "u, s, v = np.linalg.svd(A, full_matrices=True)\n",
    "print(\"Left singular vectors:\")\n",
    "print(u.shape)\n",
    "print()\n",
    "print(\"Singular values:\")\n",
    "print(s)\n",
    "print()\n",
    "print(\"Right singular vectors:\")\n",
    "print(v.shape)"
   ]
  },
  {
   "cell_type": "code",
   "execution_count": 2,
   "metadata": {},
   "outputs": [],
   "source": [
    "def rsvd(A, Omega):\n",
    "    Y = A @ Omega\n",
    "    Q, _ = np.linalg.qr(Y)\n",
    "    B = Q.T @ A\n",
    "    u_tilde, s, v = np.linalg.svd(B, full_matrices=False)\n",
    "    u = Q @ u_tilde\n",
    "    return u, s, v"
   ]
  },
  {
   "cell_type": "code",
   "execution_count": 3,
   "metadata": {},
   "outputs": [
    {
     "name": "stdout",
     "output_type": "stream",
     "text": [
      "Left singular vectors:\n",
      "[[ 0.38070859  0.60505354]\n",
      " [ 0.56830191 -0.74963644]\n",
      " [ 0.72944767  0.26824507]]\n",
      "\n",
      "Singular values:\n",
      "[9.34224023 3.02039888]\n",
      "\n",
      "Right singular vectors:\n",
      "[[ 0.57915029  0.61707064  0.53273704]\n",
      " [-0.77420021  0.21163814  0.59650929]]\n",
      "\n"
     ]
    }
   ],
   "source": [
    "np.random.seed(1000)\n",
    "A = np.array([[1, 3, 2], [5, 3, 1], [3, 4, 5]])\n",
    "rank = 2\n",
    "Omega = np.random.randn(A.shape[1], rank)\n",
    "u, s, v = rsvd(A, Omega)\n",
    "print(\"Left singular vectors:\")\n",
    "print(u)\n",
    "print()\n",
    "print(\"Singular values:\")\n",
    "print(s)\n",
    "print()\n",
    "print(\"Right singular vectors:\")\n",
    "print(v)\n",
    "print()"
   ]
  },
  {
   "cell_type": "code",
   "execution_count": 4,
   "metadata": {},
   "outputs": [],
   "source": [
    "import numpy as np\n",
    "\n",
    "\n",
    "def power_iteration(A, Omega, power_iter=3):\n",
    "    Y = A @ Omega\n",
    "    for q in range(power_iter):\n",
    "        Y = A @ (A.T @ Y)\n",
    "    Q, _ = np.linalg.qr(Y)\n",
    "    return Q"
   ]
  },
  {
   "cell_type": "code",
   "execution_count": 5,
   "metadata": {},
   "outputs": [],
   "source": [
    "def rsvd(A, Omega):\n",
    "    Q = power_iteration(A, Omega)\n",
    "    B = Q.T @ A\n",
    "    u_tilde, s, v = np.linalg.svd(B, full_matrices=False)\n",
    "    u = Q @ u_tilde\n",
    "    return u, s, v"
   ]
  },
  {
   "cell_type": "code",
   "execution_count": 6,
   "metadata": {},
   "outputs": [
    {
     "name": "stdout",
     "output_type": "stream",
     "text": [
      "Left singular vectors:\n",
      "[[ 0.37421757  0.28528579]\n",
      " [ 0.56470638 -0.82484381]\n",
      " [ 0.73557319  0.48810317]]\n",
      "\n",
      "Singular values:\n",
      "[9.34265841 3.24497775]\n",
      "\n",
      "Right singular vectors:\n",
      "[[ 0.57847229  0.61642675  0.53421706]\n",
      " [-0.73178429  0.10284774  0.67373147]]\n",
      "\n"
     ]
    }
   ],
   "source": [
    "np.random.seed(1000)\n",
    "A = np.array([[1, 3, 2], [5, 3, 1], [3, 4, 5]])\n",
    "rank = 2\n",
    "Omega = np.random.randn(A.shape[1], rank)\n",
    "u, s, v = rsvd(A, Omega)\n",
    "print(\"Left singular vectors:\")\n",
    "print(u)\n",
    "print()\n",
    "print(\"Singular values:\")\n",
    "print(s)\n",
    "print()\n",
    "print(\"Right singular vectors:\")\n",
    "print(v)\n",
    "print()"
   ]
  }
 ],
 "metadata": {
  "kernelspec": {
   "display_name": ".venv",
   "language": "python",
   "name": "python3"
  },
  "language_info": {
   "codemirror_mode": {
    "name": "ipython",
    "version": 3
   },
   "file_extension": ".py",
   "mimetype": "text/x-python",
   "name": "python",
   "nbconvert_exporter": "python",
   "pygments_lexer": "ipython3",
   "version": "3.10.13"
  }
 },
 "nbformat": 4,
 "nbformat_minor": 2
}
